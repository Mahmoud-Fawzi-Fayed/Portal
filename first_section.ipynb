{
 "cells": [
  {
   "cell_type": "code",
   "execution_count": 11,
   "metadata": {},
   "outputs": [],
   "source": [
    "import cv2\n",
    "image_path = 'logol.png'\n",
    "image = cv2.imread(image_path)\n",
    "\n",
    "blue_channel, green_channel, red_channel = cv2.split(image)\n",
    "cv2.imshow('Red Channel', red_channel)\n",
    "cv2.imshow('Green Channel', green_channel)\n",
    "cv2.imshow('Blue Channel', blue_channel)\n",
    "cv2.waitKey(0)\n",
    "cv2.destroyAllWindows()\n"
   ]
  }
 ],
 "metadata": {
  "kernelspec": {
   "display_name": "Python 3",
   "language": "python",
   "name": "python3"
  },
  "language_info": {
   "codemirror_mode": {
    "name": "ipython",
    "version": 3
   },
   "file_extension": ".py",
   "mimetype": "text/x-python",
   "name": "python",
   "nbconvert_exporter": "python",
   "pygments_lexer": "ipython3",
   "version": "3.10.0"
  }
 },
 "nbformat": 4,
 "nbformat_minor": 2
}
